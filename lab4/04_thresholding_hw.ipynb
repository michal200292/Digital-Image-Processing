{
 "cells": [
  {
   "cell_type": "markdown",
   "source": [
    "# Binaryzacja\n",
    "\n",
    "### Zadanie domowe - binaryzacja adaptacyjna w oknach z interpolacją.\n",
    "\n",
    "Pokazana w ramach podstawowej części ćwiczenia binaryzacja adaptacyjna działa dobrze, ale jest dość złożona obliczeniowo (choć oczywiście należy mieć świadomość, że implementację można zoptymalizować i wyeliminować pewne powtarzające się obliczenia).\n",
    "Zbliżone rozwiązanie można również realizować w nieco innym wariancie - w oknach.\n",
    "Ogólna idea jest następująca: wejściowy obraz dzielimy na nienachodzące (rozłączne) okna - wygodnie jest założyć, że są one kwadratowe i o rozmiarze będącym potęgą liczby 2.\n",
    "W każdym z okien obliczamy próg - niech to będzie średnia i stosujemy do binaryzacji lokalnej.\n",
    "Jak nietrudno się domyślić efekt nie będzie dobry, gdyż na granicach okien wystąpią artefakty.\n",
    "Aby je wyeliminować należy zastosować interpolację, co zostanie szczegółowo opisane poniżej.\n",
    "Warto zaznaczyć, że podobny mechanizm interpolacji stosowany jest w poznanym wcześniej algorytmie CLAHE.\n",
    "Zainteresowane osoby odsyłam do artykułu na [Wikipedii](https://en.wikipedia.org/wiki/Adaptive_histogram_equalization) oraz do artykułu o metodzie CLAHE - Zuiderveld, Karel. “Contrast Limited Adaptive Histograph Equalization.” Graphic Gems IV. San Diego: Academic Press Professional, 1994. 474–485.\n",
    "\n"
   ],
   "metadata": {
    "collapsed": false,
    "id": "H0nL6XYghXGe"
   }
  },
  {
   "cell_type": "markdown",
   "source": [
    "Na początek zaimplementujemy wariant metody bez interpolacji:\n",
    "1. Wczytaj obraz _rice.png_.\n",
    "2. W dwóch pętlach `for`, dla okien o ustalonym wymiarze $W$ (potęga 2), oblicz średnią:\n",
    "- pętle powinny mieć krok $W$,\n",
    "- wynik (tj. średnie) należy zapisać w pomocniczej tablicy,\n",
    "- przydatny operator to `//` - dzielenie całkowitoliczbowe (*floor division*).\n",
    "\n",
    "3. W kolejnych dwóch pętlach `for` (tym razem o kroku 1) przeprowadź binaryzację z wyznaczonymi progami.\n",
    "   Tu oczywiście należy się sprytnie odwołać do wyników z tablicy pomocniczej.\n",
    "   Wyświetl wyniki - czy jest on poprawny?\n",
    "   Podpowiedź - błędy lepiej widać dla mniejszego rozmiaru okna (np. 16 x 16)."
   ],
   "metadata": {
    "collapsed": false,
    "id": "uiqU57wxhXGh"
   }
  },
  {
   "cell_type": "code",
   "execution_count": null,
   "outputs": [],
   "source": [
    "import cv2\n",
    "import os\n",
    "import requests\n",
    "from matplotlib import pyplot as plt\n",
    "import numpy as np\n",
    "\n",
    "url = 'https://raw.githubusercontent.com/vision-agh/poc_sw/master/04_Thresholding/'\n",
    "\n",
    "fileName = \"rice.png\"\n",
    "if not os.path.exists(fileName):\n",
    "    r = requests.get(url + fileName, allow_redirects=True)\n",
    "    open(fileName, 'wb').write(r.content)"
   ],
   "metadata": {
    "pycharm": {
     "name": "#%%\n"
    },
    "id": "gKZpDdyYhXGi"
   }
  },
  {
   "cell_type": "code",
   "execution_count": null,
   "outputs": [],
   "source": [
    "def show_image(image):\n",
    "    plt.imshow(image, 'gray')\n",
    "    plt.axis('off')"
   ],
   "metadata": {
    "collapsed": false
   }
  },
  {
   "cell_type": "code",
   "execution_count": null,
   "outputs": [],
   "source": [
    "rice = cv2.imread(\"rice.png\", cv2.IMREAD_GRAYSCALE)\n",
    "show_image(rice)"
   ],
   "metadata": {
    "collapsed": false
   }
  },
  {
   "cell_type": "code",
   "execution_count": null,
   "outputs": [],
   "source": [
    "def window_means(image, w):\n",
    "    x, y = image.shape\n",
    "    means = np.zeros((x // w, y // w))\n",
    "    for i in range(0, x, w):\n",
    "        for j in range(0, y, w):\n",
    "            means[i // w, j // w] = np.mean(image[i:i+w, j:j+w])\n",
    "\n",
    "    return means\n",
    "\n",
    "\n",
    "def adaptive(image_name, w):\n",
    "    image = cv2.imread(image_name, cv2.IMREAD_GRAYSCALE)\n",
    "    x, y = image.shape\n",
    "    means = window_means(image, w)\n",
    "    binary = np.zeros(image.shape)\n",
    "    for i in range(x):\n",
    "        for j in range(y):\n",
    "            binary[i, j] = 0 if image[i, j] <= means[i // w, j // w] else 255\n",
    "    return binary\n",
    "\n",
    "\n",
    "show_image(adaptive(\"rice.png\", 16))"
   ],
   "metadata": {
    "collapsed": false
   }
  },
  {
   "cell_type": "code",
   "execution_count": null,
   "outputs": [],
   "source": [
    "show_image(adaptive(\"rice.png\", 32))"
   ],
   "metadata": {
    "collapsed": false
   }
  },
  {
   "cell_type": "code",
   "execution_count": null,
   "outputs": [],
   "source": [
    "show_image(adaptive(\"rice.png\", 64))"
   ],
   "metadata": {
    "collapsed": false
   }
  },
  {
   "cell_type": "markdown",
   "source": [
    "4. Rozwiązaniem problemu artefaktów na obrazie jest zastosowanie interpolacji.\n",
    "   Próg binaryzacji dla danego piksela wyliczany jest na podstawie progów z sąsiednich okien.\n",
    "   ![Ilustracja koncepcji interpolacji](https://raw.githubusercontent.com/vision-agh/poc_sw/master/04_Thresholding/clahe_tile_interpolation.png)\n",
    "\n",
    "   Koncepcja została przedstawiona na powyższym rysunku.\n",
    "   Możliwe są 3 przypadki:\n",
    "   - piksel leży w rogach obrazu (kolor czerwony) - wtedy za próg przyjmuje się wartość średniej obliczonej dla danego okna,\n",
    "   - piksel leży na krawędzi obrazu (kolor zielony) - wtedy za próg przyjmuje się wartość obliczoną na podstawie średnich z dwóch sąsiednich okien,\n",
    "   - piksel leży w środku (kolor fioletowy) - wtedy próg jest obliczany na podstawie 4 sąsiednich okien.\n",
    "\n",
    "   Uwaga. Proszę zwrócić uwagę, że sprawa jest dość złożona.\n",
    "   Obraz dzielimy na okna (dla nich liczymy średnią) i następnie każde z okien \"wirtualnie\" na cztery sub-okna (linie przerywane).\n",
    "   To ułatwia znalezienie środków okien (czarne kwadraty), które są wykorzystywane w interpolacji.\n",
    "\n",
    "5. Implementujemy interpolację.\n",
    "   Potrzebujemy do tego znać progi (jeden, dwa lub cztery), ale dla przejrzystości obliczeń lepiej zawsze przyjąć cztery oraz odległości od rozważnego piksela do środka sąsiednich okien (też w ogólnym przypadku 4):\n",
    "   - całość sprowadza się do określania pozycji piksela,\n",
    "   - na początek rozważmy przypadek czterech narożników (kolor czerwony na rysunku) - trzeba napisać `if`, który je wyznaczy,\n",
    "   - warto sprawdzić, czy nie popełniliśmy błędu i np. tymczasowo do obrazu wynikowego w tym miejscu przypisać wartość 255. Efekt powinien być taki, że widoczne będą tylko narożniki.\n",
    "   - drugi przypadek do brzegi (kolor zielony) - postępujemy podobnie jak przy narożnikach, przy czym osobno wydzielamy brzegi pionowe i poziome. Tu też warto sobie obrazek \"pokolorować\".\n",
    "   - na koniec wyznaczamy piksele w środku.\n",
    "   - analizując poprawność proszę zwrócić uwagę na to, żeby nie było przerw pomiędzy obszarami.\n",
    "   - mając podział możemy dla każdego z obszarów wyliczyć cztery progi ($t11, t12, t21, t22$):\n",
    "        - dla narożników wartość ta będzie identyczna i wynosi po prostu `t11 =t[jT][iT]`, gdzie `iT=i//W` oraz `jT=j//W`.\n",
    "          Uwaga. Proszę używać indeksów tymczasowych $jT,iT$, gdyż będą potrzebne w dalszych obliczeniach.\n",
    "        - dla brzegów pionowych występują dwie wartości: okno bieżące i sąsiednie.\n",
    "          Wyznaczenie współrzędnej poziomej jest proste (jak dla narożników).\n",
    "          Nad współrzędną pionową trzeba się chwilę zastanowić - aby nie rozważać wielu przypadków można od bieżącej współrzędnej odjąć połowę rozmiaru okna i dopiero później wykonać dzielenie przez rozmiar okna.\n",
    "          W ten sposób otrzymujemy indeks okna o mniejszej współrzędnej.\n",
    "          Indeks drugiego uzyskamy dodając 1.\n",
    "          Proszę się zastanowić dlaczego to działa - najlepiej to sobie rozrysować.\n",
    "        - dla brzegów poziomych należy postąpić analogicznie,\n",
    "        - obliczenia dla obszaru wewnątrz powinny być już oczywiste.\n",
    "   - kolejny krok to wyliczenie odległości pomiędzy rozważanym pikselem, a czterema środkami.\n",
    "     Przykładowo dla osi X wygląda to następująco: `dX1 = i - W/2 - iT*W` oraz `dX2 = (iT+1)*W - i-W/2`.\n",
    "     Dla osi Y analogicznie.\n",
    "     Ponownie proszę się zastanowić dlaczego to jest poprawne - najlepiej to sobie narysować.\n",
    "   - ostatni krok to interpolacja dwuliniowa.\n",
    "     Wykonamy ją w trzech krokach:\n",
    "     - interpolacja w osi X dla dwóch górnych okien - sprowadza się ona do średniej ważonej pomiędzy wartościami $t11$ i $t12$, przy czym wagi to odpowiednio $dX2/W$ i $dX1/W$.\n",
    "       Ponownie na podstawie rysunku proszę to przemyśleć.\n",
    "     - interpolacja w osi X dla dolnych okien jest analogiczna,\n",
    "     - interpolacja w osi Y również jest analogiczna, z tym, że wejściem są dwa wyniki interpolacji w poziomie.\n",
    "\n",
    "6. \"Kropka nad i\" to oczywiście binaryzacja z wyznaczonym poprzez interpolację progiem - proszę dobrać rozmiar okna.\n",
    "7. Na koniec proszę porównać na wspólnym rysunku poznane metody binaryzacji:\n",
    "- Otsu,\n",
    "- lokalna na podstawie średniej,\n",
    "- lokalna Sauvoli,\n",
    "- lokalna w oknach bez interpolacji,\n",
    "- lokalna w oknach z interpolacją.\n",
    "\n",
    "Proszę pod porównaniem, w osobnej sekcji *markdown*, krótko skomentować uzyskane wyniki."
   ],
   "metadata": {
    "collapsed": false,
    "id": "g8rKazIfhXGj"
   }
  },
  {
   "cell_type": "code",
   "execution_count": null,
   "outputs": [],
   "source": [
    "def interpolation(image_name, w):\n",
    "\n",
    "    def corner(x1, y1):\n",
    "        mean = means[x1 // w, y1 // w]\n",
    "        binary[x1, y1] = 0 if image[x1, y1] <= mean else 255\n",
    "\n",
    "    def dist_center(cord, rect_num):\n",
    "        return abs(cord - rect_num*w - w2)\n",
    "\n",
    "    def find_window(cord):\n",
    "        cord = (cord - w2) // w\n",
    "        return cord, cord + 1\n",
    "\n",
    "    image = cv2.imread(image_name, cv2.IMREAD_GRAYSCALE)\n",
    "    x, y = image.shape\n",
    "    means = window_means(image, w)\n",
    "    binary = np.zeros(image.shape)\n",
    "    w2 = w // 2\n",
    "\n",
    "    for i in range(w2):\n",
    "        for j in range(w2):\n",
    "            corner(i, j)\n",
    "            corner(x - i - 1, y - j - 1)\n",
    "            corner(i, y - j - 1)\n",
    "            corner(x - i - 1, j)\n",
    "\n",
    "    for right in [True, False]:\n",
    "        for i in range(w2, x - w2):\n",
    "            for j in range(w2):\n",
    "                if right:\n",
    "                    j = y - j - 1\n",
    "                m1, m2 = find_window(i)\n",
    "                t = (dist_center(i, m2) / w)*means[m1, 0] + (dist_center(i, m1) / w)*means[m2, 0]\n",
    "                binary[i, j] = 0 if image[i, j] <= t else 255\n",
    "\n",
    "    for up in [True, False]:\n",
    "        for j in range(w2, y - w2):\n",
    "            for i in range(w2):\n",
    "                if up:\n",
    "                    i = x - i - 1\n",
    "                m1, m2 = find_window(j)\n",
    "                t = (dist_center(j, m2) / w)*means[0, m1] + (dist_center(j, m1) / w)*means[0, m2]\n",
    "                binary[i, j] = 0 if image[i, j] <= t else 255\n",
    "\n",
    "    for i in range(w2, x - w2):\n",
    "        for j in range(w2, y - w2):\n",
    "            m1, m2 = find_window(i)\n",
    "            m3, m4 = find_window(j)\n",
    "            dist1, dist2 = dist_center(j, m3), dist_center(j, m4)\n",
    "            t1 = (dist2 / w)*means[m1, m3] + (dist1 / w)*means[m1, m4]\n",
    "            t2 = (dist2 / w)*means[m2, m3] + (dist1 / w)*means[m2, m4]\n",
    "\n",
    "            t = (dist_center(i, m2) / w)*t1 + (dist_center(i, m1) / w)*t2\n",
    "            binary[i, j] = 0 if image[i, j] <= t else 255\n",
    "\n",
    "    return binary"
   ],
   "metadata": {
    "pycharm": {
     "name": "#%%\n"
    },
    "id": "XHAv36hKhXGl"
   }
  },
  {
   "cell_type": "code",
   "execution_count": null,
   "outputs": [],
   "source": [
    "show_image(interpolation(\"rice.png\", 16))"
   ],
   "metadata": {
    "collapsed": false
   }
  },
  {
   "cell_type": "code",
   "execution_count": null,
   "outputs": [],
   "source": [
    "show_image(interpolation(\"rice.png\", 32))"
   ],
   "metadata": {
    "collapsed": false
   }
  },
  {
   "cell_type": "code",
   "execution_count": null,
   "outputs": [],
   "source": [
    "show_image(interpolation(\"rice.png\", 64))"
   ],
   "metadata": {
    "collapsed": false
   }
  },
  {
   "cell_type": "code",
   "execution_count": null,
   "outputs": [],
   "source": [
    "def otsu(image_name):\n",
    "    image = cv2.imread(image_name, cv2.IMREAD_GRAYSCALE)\n",
    "    hist = cv2.calcHist([image], [0], None, [256], [0, 256])\n",
    "    hist = np.squeeze(hist) / np.sum(hist)\n",
    "\n",
    "    cumulative = np.cumsum(hist)\n",
    "    means = np.cumsum(hist * np.arange(256))\n",
    "    mean_all = means[-1]\n",
    "\n",
    "    variance = np.divide(np.square(mean_all * cumulative - means), (cumulative * (1 - cumulative)), where=((0 < cumulative) & (cumulative < 1)))\n",
    "    opt_k = np.argmax(variance)\n",
    "    thresh_otsu, _ = cv2.threshold(image, 0, 255, cv2.THRESH_OTSU)\n",
    "    image[image <= opt_k] = 0\n",
    "    image[image > opt_k] = 255\n",
    "    return image\n",
    "\n",
    "def local_mean(image_name, window_size):\n",
    "    image = cv2.imread(image_name, cv2.IMREAD_GRAYSCALE)\n",
    "    X, Y = image.shape\n",
    "    W = window_size // 2\n",
    "    binary = np.zeros(image.shape)\n",
    "    for i in range(W, Y - W):\n",
    "        for j in range(W, X - W):\n",
    "            window = image[i-W:i+W, j-W:j+W]\n",
    "            binary[i, j] = 0 if image[i, j] <= np.mean(window) else 255\n",
    "    return binary\n",
    "\n",
    "def local_sauvola(image_name, window_size, k=0.15, R=128, sign=-1):\n",
    "    image = cv2.imread(image_name, cv2.IMREAD_GRAYSCALE)\n",
    "    X, Y = image.shape\n",
    "    W = window_size // 2\n",
    "    binary = np.zeros(image.shape)\n",
    "    for i in range(W, Y - W):\n",
    "        for j in range(W, X - W):\n",
    "            window = image[i-W:i+W, j-W:j+W]\n",
    "            T = np.mean(window) * (1 + sign*k*(np.std(window) / R - 1))\n",
    "            binary[i, j] = 0 if image[i, j] <= T else 255\n",
    "    return binary"
   ],
   "metadata": {
    "collapsed": false
   }
  },
  {
   "cell_type": "code",
   "execution_count": null,
   "outputs": [],
   "source": [
    "def compare_thresholding(image_name):\n",
    "    im1 = adaptive(image_name, 32)\n",
    "    im2 = interpolation(image_name, 32)\n",
    "    im3 = otsu(image_name)\n",
    "    im4 = local_mean(image_name, 25)\n",
    "    im5 = local_sauvola(image_name, 16)\n",
    "\n",
    "    fig, ax = plt.subplots(3, 2)\n",
    "    fig.set_size_inches(12, 15)\n",
    "\n",
    "    ax[0, 0].imshow(im1, 'gray')\n",
    "    ax[0, 0].axis('off')\n",
    "    ax[0, 0].set_title(\"Local without interpolation\")\n",
    "\n",
    "    ax[0, 1].imshow(im2, 'gray')\n",
    "    ax[0, 1].axis('off')\n",
    "    ax[0, 1].set_title(\"Interpolation\")\n",
    "\n",
    "    ax[1, 0].imshow(im3, 'gray')\n",
    "    ax[1, 0].axis('off')\n",
    "    ax[1, 0].set_title(\"Otsu\")\n",
    "\n",
    "    ax[1, 1].imshow(im4, 'gray')\n",
    "    ax[1, 1].axis('off')\n",
    "    ax[1, 1].set_title(\"Local with mean\")\n",
    "\n",
    "    ax[2, 0].imshow(im5, 'gray')\n",
    "    ax[2, 0].axis('off')\n",
    "    ax[2, 0].set_title(\"Sauvola\")\n",
    "\n",
    "\n",
    "    ax[2, 1].axis('off')\n"
   ],
   "metadata": {
    "collapsed": false
   }
  },
  {
   "cell_type": "code",
   "execution_count": null,
   "outputs": [],
   "source": [
    "compare_thresholding(\"rice.png\")"
   ],
   "metadata": {
    "collapsed": false
   }
  },
  {
   "cell_type": "markdown",
   "source": [
    "Widać, że najsłabiej radzą sobie algorytmy które bazują tylko na liczeniu średniej (dla każdego punktu lub okna). Obrazy po tym przekształceniu zawierają najwięcej szumu.\n",
    "Algorytm Otsu praktycznie całkowicie wyeliminował szum, lecz kosztem utraty informacji o kilku ziarnkach ryżu.\n",
    "ALgorytm Sauvola i Interpolacja wyeliminowały większość szumu zostawiając przy tym jak najwięcej informacji o interesujących nas obiektach."
   ],
   "metadata": {
    "collapsed": false
   }
  }
 ],
 "metadata": {
  "celltoolbar": "Raw Cell Format",
  "kernelspec": {
   "display_name": "Python 3",
   "language": "python",
   "name": "python3"
  },
  "language_info": {
   "codemirror_mode": {
    "name": "ipython",
    "version": 3
   },
   "file_extension": ".py",
   "mimetype": "text/x-python",
   "name": "python",
   "nbconvert_exporter": "python",
   "pygments_lexer": "ipython3",
   "version": "3.8.3"
  },
  "colab": {
   "provenance": [],
   "collapsed_sections": []
  }
 },
 "nbformat": 4,
 "nbformat_minor": 0
}
